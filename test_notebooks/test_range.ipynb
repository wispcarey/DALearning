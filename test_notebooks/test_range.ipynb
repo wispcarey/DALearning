{
 "cells": [
  {
   "cell_type": "code",
   "execution_count": 1,
   "metadata": {},
   "outputs": [],
   "source": [
    "from utils import plot_results_3d, plot_results_2d\n",
    "from utils import partial_obs_operator, get_mean_std\n",
    "from torch.utils.data import Dataset, DataLoader\n",
    "from config.dataset_info import DATASET_INFO\n",
    "\n",
    "from networks import ComplexAttentionModel, AttentionModel\n",
    "import matplotlib.pyplot as plt\n",
    "\n",
    "import numpy as np\n",
    "import pandas as pd\n",
    "import torch\n",
    "from localization import plot_GC, pairwise_distances\n",
    "import os"
   ]
  },
  {
   "cell_type": "code",
   "execution_count": 2,
   "metadata": {},
   "outputs": [],
   "source": [
    "dataset_names = ['ks', 'lorenz96', 'lorenz63']\n",
    "dataset_data = {}\n",
    "\n",
    "for dataset in dataset_names:\n",
    "    data_folder = os.path.join('data', dataset)\n",
    "    if os.path.exists(data_folder):\n",
    "        npy_files = [f for f in os.listdir(data_folder) if f.startswith('0.0_60_8192') and f.endswith('.npy')]\n",
    "        dataset_data[dataset] = []\n",
    "        for file in npy_files:\n",
    "            file_path = os.path.join(data_folder, file)\n",
    "            try:\n",
    "                data = np.load(file_path)\n",
    "                dataset_data[dataset].append(data)\n",
    "            except Exception as e:\n",
    "                print(f\"Error loading file {file_path}: {e}\")\n",
    "    else:\n",
    "        print(f\"Data folder not found: {data_folder}\")"
   ]
  },
  {
   "cell_type": "code",
   "execution_count": 7,
   "metadata": {},
   "outputs": [
    {
     "name": "stdout",
     "output_type": "stream",
     "text": [
      "ks\n",
      "Max: 3.6629493\n",
      "Min: -3.665369\n",
      "lorenz96\n",
      "Max: 16.580936\n",
      "Min: -11.885108\n",
      "lorenz63\n",
      "Max: 47.19983\n",
      "Min: -26.331524\n"
     ]
    }
   ],
   "source": [
    "for dataset in dataset_names:\n",
    "    print(dataset)\n",
    "    print(\"Max:\", np.max(dataset_data[dataset][0]))\n",
    "    print(\"Min:\", np.min(dataset_data[dataset][0]))"
   ]
  },
  {
   "cell_type": "code",
   "execution_count": null,
   "metadata": {},
   "outputs": [],
   "source": []
  }
 ],
 "metadata": {
  "kernelspec": {
   "display_name": "base",
   "language": "python",
   "name": "python3"
  },
  "language_info": {
   "codemirror_mode": {
    "name": "ipython",
    "version": 3
   },
   "file_extension": ".py",
   "mimetype": "text/x-python",
   "name": "python",
   "nbconvert_exporter": "python",
   "pygments_lexer": "ipython3",
   "version": "3.12.2"
  }
 },
 "nbformat": 4,
 "nbformat_minor": 2
}
